{
 "cells": [
  {
   "cell_type": "code",
   "execution_count": 1,
   "metadata": {},
   "outputs": [
    {
     "name": "stdout",
     "output_type": "stream",
     "text": [
      "Requirement already satisfied: torch in c:\\users\\aresf\\miniconda3\\lib\\site-packages (1.9.0)\n",
      "Requirement already satisfied: torchvision in c:\\users\\aresf\\miniconda3\\lib\\site-packages (0.10.0)\n",
      "Requirement already satisfied: torchaudio in c:\\users\\aresf\\miniconda3\\lib\\site-packages (0.9.0)\n",
      "Requirement already satisfied: numpy in c:\\users\\aresf\\miniconda3\\lib\\site-packages (1.22.3)\n",
      "Requirement already satisfied: matplotlib in c:\\users\\aresf\\miniconda3\\lib\\site-packages (3.5.1)\n",
      "Requirement already satisfied: pandas in c:\\users\\aresf\\miniconda3\\lib\\site-packages (1.4.2)\n",
      "Requirement already satisfied: typing_extensions in c:\\users\\aresf\\miniconda3\\lib\\site-packages (from torch) (4.4.0)\n",
      "Requirement already satisfied: pillow>=5.3.0 in c:\\users\\aresf\\miniconda3\\lib\\site-packages (from torchvision) (9.3.0)\n",
      "Requirement already satisfied: pyparsing>=2.2.1 in c:\\users\\aresf\\miniconda3\\lib\\site-packages (from matplotlib) (3.0.9)\n",
      "Requirement already satisfied: python-dateutil>=2.7 in c:\\users\\aresf\\miniconda3\\lib\\site-packages (from matplotlib) (2.8.2)\n",
      "Requirement already satisfied: kiwisolver>=1.0.1 in c:\\users\\aresf\\miniconda3\\lib\\site-packages (from matplotlib) (1.4.4)\n",
      "Requirement already satisfied: cycler>=0.10 in c:\\users\\aresf\\miniconda3\\lib\\site-packages (from matplotlib) (0.11.0)\n",
      "Requirement already satisfied: packaging>=20.0 in c:\\users\\aresf\\miniconda3\\lib\\site-packages (from matplotlib) (22.0)\n",
      "Requirement already satisfied: fonttools>=4.22.0 in c:\\users\\aresf\\miniconda3\\lib\\site-packages (from matplotlib) (4.25.0)\n",
      "Requirement already satisfied: pytz>=2020.1 in c:\\users\\aresf\\miniconda3\\lib\\site-packages (from pandas) (2022.7)\n",
      "Requirement already satisfied: six>=1.5 in c:\\users\\aresf\\miniconda3\\lib\\site-packages (from python-dateutil>=2.7->matplotlib) (1.16.0)\n"
     ]
    }
   ],
   "source": []
  },
  {
   "cell_type": "code",
   "execution_count": null,
   "metadata": {},
   "outputs": [],
   "source": []
  }
 ],
 "metadata": {
  "kernelspec": {
   "display_name": "base",
   "language": "python",
   "name": "python3"
  },
  "language_info": {
   "codemirror_mode": {
    "name": "ipython",
    "version": 3
   },
   "file_extension": ".py",
   "mimetype": "text/x-python",
   "name": "python",
   "nbconvert_exporter": "python",
   "pygments_lexer": "ipython3",
   "version": "3.8.13"
  },
  "orig_nbformat": 4,
  "vscode": {
   "interpreter": {
    "hash": "6a9da1f6fdf9e88b59f55e9249e147cae68afe3e5df514ebaf500c57bdeb4c6f"
   }
  }
 },
 "nbformat": 4,
 "nbformat_minor": 2
}
