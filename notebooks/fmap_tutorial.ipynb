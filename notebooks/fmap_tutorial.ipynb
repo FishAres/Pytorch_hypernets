{
 "cells": [
  {
   "cell_type": "code",
   "execution_count": 1,
   "metadata": {},
   "outputs": [],
   "source": [
    "import torch\n",
    "import functorch\n",
    "import numpy as np\n",
    "import matplotlib.pyplot as plt\n",
    "from torchvision import datasets, transforms\n",
    "%matplotlib inline"
   ]
  },
  {
   "cell_type": "code",
   "execution_count": 2,
   "metadata": {},
   "outputs": [
    {
     "data": {
      "text/plain": [
       "'c:\\\\Users\\\\aresf\\\\Desktop\\\\Code\\\\Pytorch_hypernets\\\\notebooks'"
      ]
     },
     "execution_count": 2,
     "metadata": {},
     "output_type": "execute_result"
    }
   ],
   "source": [
    "import os\n",
    "os.getcwd()"
   ]
  },
  {
   "cell_type": "code",
   "execution_count": 4,
   "metadata": {},
   "outputs": [],
   "source": [
    "train_loader = torch.utils.data.DataLoader(datasets.MNIST('../data/mnist_data', \n",
    "                                                          download=True, \n",
    "                                                          train=True,\n",
    "                                                          transform=transforms.Compose([\n",
    "                                                              transforms.ToTensor(), # first, convert image to PyTorch tensor\n",
    "                                                          ])), \n",
    "                                           batch_size=32, \n",
    "                                           shuffle=True)\n",
    "\n",
    "# download and transform test dataset\n",
    "test_loader = torch.utils.data.DataLoader(datasets.MNIST('../data/mnist_data', \n",
    "                                                          download=True, \n",
    "                                                          train=False,\n",
    "                                                          transform=transforms.Compose([\n",
    "                                                              transforms.ToTensor(), # first, convert image to PyTorch tensor\n",
    "                                                          ])), \n",
    "                                           batch_size=32, \n",
    "                                           shuffle=True)"
   ]
  },
  {
   "cell_type": "code",
   "execution_count": 64,
   "metadata": {},
   "outputs": [],
   "source": [
    "class HyperNetwork(torch.nn.Module):\n",
    "    def __init__(self, hypnet: torch.nn.Module, synthnet: torch.nn.Module):\n",
    "        # hypnet is the network that takes x and produces the parameters of synthnet\n",
    "        # synthnet is the network that takes z and produces h\n",
    "        super().__init__()\n",
    "        s_func, s_params0 = functorch.make_functional(synthnet)\n",
    "\n",
    "        # store the information about the parameters\n",
    "        self._sp_shapes = [sp.shape for sp in s_params0]\n",
    "\n",
    "        self._sp_offsets = np.array([0, *np.cumsum([sp.numel() for sp in s_params0])])\n",
    "\n",
    "        # make the synthnet_func to accept batched parameters\n",
    "        synthnet_func = functorch.vmap(s_func)\n",
    "        # a workaround of functorch's bug #793\n",
    "        # self._synthnet_batched_func = [synthnet_func]\n",
    "        self._synthnet_batched_func = synthnet_func\n",
    "        self._hypnet = hypnet\n",
    "\n",
    "    def forward(self, x: torch.Tensor, z: torch.Tensor) -> torch.Tensor:\n",
    "        # x: (batch_size, nx), z: (batch_size, nz)\n",
    "        params = self._hypnet(x)  # params: (batch_size, nparams_tot)\n",
    "\n",
    "        # rearrange params to have the same shape as the synthnet params, except on the batch dimension\n",
    "        params_lst = []\n",
    "        for i, shape in enumerate(self._sp_shapes):\n",
    "            j0, j1 = self._sp_offsets[i], self._sp_offsets[i + 1]\n",
    "            params_lst.append(params[..., j0:j1].reshape(-1, *shape))\n",
    "\n",
    "        # apply the function to the batched parameters and z\n",
    "        h = self._synthnet_batched_func(params_lst, z)\n",
    "        return h\n",
    "        # return params_lst"
   ]
  },
  {
   "cell_type": "code",
   "execution_count": 36,
   "metadata": {},
   "outputs": [
    {
     "data": {
      "text/plain": [
       "array([    0, 78400, 78500, 79500, 79510])"
      ]
     },
     "execution_count": 36,
     "metadata": {},
     "output_type": "execute_result"
    }
   ],
   "source": [
    "np.array([0, *np.cumsum([sp.numel() for sp in a])])"
   ]
  },
  {
   "cell_type": "code",
   "execution_count": 70,
   "metadata": {},
   "outputs": [],
   "source": [
    "synthnet = torch.nn.Sequential(\n",
    "    torch.nn.Flatten(),\n",
    "    torch.nn.Linear(784, 100),\n",
    "    torch.nn.ReLU(),\n",
    "    torch.nn.Linear(100, 10),\n",
    ")\n"
   ]
  },
  {
   "cell_type": "code",
   "execution_count": 71,
   "metadata": {},
   "outputs": [],
   "source": [
    "_, synthnet_params = functorch.make_functional(synthnet)\n",
    "n_synthnet_params = sum([p.numel() for p in synthnet_params])"
   ]
  },
  {
   "cell_type": "code",
   "execution_count": 72,
   "metadata": {},
   "outputs": [],
   "source": [
    "#! todo \n",
    "hypnet = torch.nn.Sequential(\n",
    "    torch.nn.Linear(3, 100),\n",
    "    torch.nn.ReLU(),\n",
    "    torch.nn.Linear(100, n_synthnet_params),\n",
    ")"
   ]
  },
  {
   "cell_type": "code",
   "execution_count": 73,
   "metadata": {},
   "outputs": [],
   "source": [
    "module = HyperNetwork(hypnet, synthnet)"
   ]
  },
  {
   "cell_type": "code",
   "execution_count": 76,
   "metadata": {},
   "outputs": [],
   "source": [
    "z = torch.randn(32, 3)\n",
    "x, y = next(iter(test_loader))"
   ]
  },
  {
   "cell_type": "code",
   "execution_count": 78,
   "metadata": {},
   "outputs": [],
   "source": [
    "criterion = torch.nn.CrossEntropyLoss()"
   ]
  },
  {
   "cell_type": "code",
   "execution_count": 86,
   "metadata": {},
   "outputs": [],
   "source": [
    "optimizer = torch.optim.SGD(module.parameters(), lr=0.001)"
   ]
  },
  {
   "cell_type": "code",
   "execution_count": 87,
   "metadata": {},
   "outputs": [
    {
     "name": "stdout",
     "output_type": "stream",
     "text": [
      "[1,     1] loss: 0.013\n",
      "[1,   501] loss: 2.221\n",
      "[1,  1001] loss: 1.049\n",
      "[1,  1501] loss: 0.803\n",
      "[2,     1] loss: 0.002\n",
      "[2,   501] loss: 0.647\n",
      "[2,  1001] loss: 0.583\n",
      "[2,  1501] loss: 0.554\n",
      "Finished Training\n"
     ]
    }
   ],
   "source": [
    "for epoch in range(2):  # loop over the dataset multiple times\n",
    "\n",
    "    running_loss = 0.0\n",
    "    for i, data in enumerate(train_loader):\n",
    "        # get the inputs; data is a list of [inputs, labels]\n",
    "        inputs, labels = data\n",
    "\n",
    "        # zero the parameter gradients\n",
    "        optimizer.zero_grad()\n",
    "\n",
    "        #!todo\n",
    "        # z = Encoder(inputs)\n",
    "\n",
    "        # forward + backward + optimize\n",
    "        outputs = module(z, inputs).reshape(-1, 10)\n",
    "        loss = criterion(outputs, labels)\n",
    "        loss.backward()\n",
    "        optimizer.step()\n",
    "\n",
    "        # print statistics\n",
    "        running_loss += loss.item()\n",
    "        if i % 500 == 0:    # print every 500 mini-batches\n",
    "            print(f'[{epoch + 1}, {i + 1:5d}] loss: {running_loss / 500:.3f}')\n",
    "            running_loss = 0.0\n",
    "\n",
    "print('Finished Training')"
   ]
  },
  {
   "cell_type": "code",
   "execution_count": null,
   "metadata": {},
   "outputs": [],
   "source": []
  }
 ],
 "metadata": {
  "kernelspec": {
   "display_name": "base",
   "language": "python",
   "name": "python3"
  },
  "language_info": {
   "codemirror_mode": {
    "name": "ipython",
    "version": 3
   },
   "file_extension": ".py",
   "mimetype": "text/x-python",
   "name": "python",
   "nbconvert_exporter": "python",
   "pygments_lexer": "ipython3",
   "version": "3.8.13"
  },
  "orig_nbformat": 4,
  "vscode": {
   "interpreter": {
    "hash": "6a9da1f6fdf9e88b59f55e9249e147cae68afe3e5df514ebaf500c57bdeb4c6f"
   }
  }
 },
 "nbformat": 4,
 "nbformat_minor": 2
}
